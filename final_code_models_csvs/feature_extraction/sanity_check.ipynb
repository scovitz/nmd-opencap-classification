{
 "cells": [
  {
   "cell_type": "code",
   "execution_count": 1,
   "id": "27ec220e-ee31-4e64-84e6-1163a464185a",
   "metadata": {},
   "outputs": [
    {
     "name": "stdout",
     "output_type": "stream",
     "text": [
      "No discrepancies \\(^_^)/\n"
     ]
    }
   ],
   "source": [
    "from pathlib import Path\n",
    "import pandas as pd\n",
    "import numpy as np\n",
    "import matplotlib.pyplot as plt\n",
    "import seaborn as sns\n",
    "\n",
    "datadir = Path('../datadir')\n",
    "\n",
    "df_new = pd.read_csv('video_features.csv')\n",
    "df_old = pd.read_csv(datadir / 'video_features.csv')\n",
    "\n",
    "df_new.sort_values(by=['ID', 'day'], inplace=True)\n",
    "df_old.sort_values(by=['ID', 'day'], inplace=True)\n",
    "\n",
    "unchanged = df_new.eq(df_old).all().all()\n",
    "if unchanged:\n",
    "    print(\"No discrepancies \\(^_^)/\")\n",
    "else:\n",
    "    print(\"Ruh roh ¯\\_(ツ)_/¯\")\n"
   ]
  }
 ],
 "metadata": {
  "kernelspec": {
   "display_name": "Python 3 (ipykernel)",
   "language": "python",
   "name": "python3"
  },
  "language_info": {
   "codemirror_mode": {
    "name": "ipython",
    "version": 3
   },
   "file_extension": ".py",
   "mimetype": "text/x-python",
   "name": "python",
   "nbconvert_exporter": "python",
   "pygments_lexer": "ipython3",
   "version": "3.9.19"
  }
 },
 "nbformat": 4,
 "nbformat_minor": 5
}
